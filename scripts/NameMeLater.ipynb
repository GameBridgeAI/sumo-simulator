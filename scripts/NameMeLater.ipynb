{
 "cells": [
  {
   "cell_type": "code",
   "execution_count": 1,
   "metadata": {},
   "outputs": [],
   "source": [
    "import rpyc\n",
    "conn = rpyc.classic.connect(host='172.17.11.80', port=80) # host name or IP address of the EV3"
   ]
  },
  {
   "cell_type": "code",
   "execution_count": 2,
   "metadata": {},
   "outputs": [
    {
     "name": "stdout",
     "output_type": "stream",
     "text": [
      "complete\n"
     ]
    }
   ],
   "source": [
    "conn.execute('''import ev3dev2\n",
    "from ev3dev2.motor import LargeMotor, MoveSteering, OUTPUT_B, OUTPUT_C\n",
    "from ev3dev2.sensor.lego import UltrasonicSensor, LightSensor\n",
    "from ev3dev2.sensor import INPUT_4, INPUT_1\n",
    "from ev3dev2.sound import Sound\n",
    "from time import sleep''')\n",
    "print(\"complete\")"
   ]
  },
  {
   "cell_type": "code",
   "execution_count": 6,
   "metadata": {},
   "outputs": [],
   "source": [
    "conn.execute('''sound = Sound()\n",
    "sound.speak(\"C'est parfait\")''')"
   ]
  },
  {
   "cell_type": "code",
   "execution_count": null,
   "metadata": {},
   "outputs": [],
   "source": [
    "conn.execute('''\n",
    "ultrasound = UltrasonicSensor(INPUT_4)\n",
    "print(ultrasound.distance_centimeters)''')"
   ]
  }
 ],
 "metadata": {
  "kernelspec": {
   "display_name": "Python 3",
   "language": "python",
   "name": "python3"
  },
  "language_info": {
   "codemirror_mode": {
    "name": "ipython",
    "version": 3
   },
   "file_extension": ".py",
   "mimetype": "text/x-python",
   "name": "python",
   "nbconvert_exporter": "python",
   "pygments_lexer": "ipython3",
   "version": "3.6.8"
  }
 },
 "nbformat": 4,
 "nbformat_minor": 2
}
