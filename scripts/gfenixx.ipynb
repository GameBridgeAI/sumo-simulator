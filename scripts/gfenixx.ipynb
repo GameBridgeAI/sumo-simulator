{
 "cells": [
  {
   "cell_type": "code",
   "execution_count": 5,
   "metadata": {},
   "outputs": [],
   "source": [
    "import rpyc"
   ]
  },
  {
   "cell_type": "code",
   "execution_count": 6,
   "metadata": {},
   "outputs": [],
   "source": [
    "conn = rpyc.classic.connect(host='172.17.11.98', port=80) # host name or IP address of the EV3"
   ]
  },
  {
   "cell_type": "code",
   "execution_count": 5,
   "metadata": {},
   "outputs": [
    {
     "data": {
      "text/plain": [
       "11"
      ]
     },
     "execution_count": 5,
     "metadata": {},
     "output_type": "execute_result"
    }
   ],
   "source": [
    "robot = conn.modules.sys\n",
    "robot.stdout.write(\"hello world\")"
   ]
  },
  {
   "cell_type": "code",
   "execution_count": 22,
   "metadata": {},
   "outputs": [
    {
     "name": "stdout",
     "output_type": "stream",
     "text": [
      "complete\n"
     ]
    }
   ],
   "source": [
    "conn.execute('''import ev3dev2\n",
    "from ev3dev2.motor import LargeMotor, MoveSteering, MoveTank, OUTPUT_B, OUTPUT_C\n",
    "from ev3dev2.sensor.lego import UltrasonicSensor, ColorSensor\n",
    "from ev3dev2.sensor import INPUT_4, INPUT_1\n",
    "from ev3dev2.sound import Sound\n",
    "from time import sleep\n",
    "\n",
    "\n",
    "# Some basic functions\n",
    "\n",
    "def move_forward_cm(cm, speed):\n",
    "    \n",
    "    degrees_to_run = cm / 17.5 * 360\n",
    "    steer_pair = MoveSteering(OUTPUT_B, OUTPUT_C, motor_class=LargeMotor)\n",
    "    steer_pair.on_for_degrees(steering=0, speed=speed, degrees=degrees_to_run)\n",
    "    \n",
    "def spin_left_degrees(deg, speed):\n",
    "\n",
    "    degrees_to_turn = deg * 197.5/90\n",
    "    steer_pair = MoveSteering(OUTPUT_B, OUTPUT_C, motor_class=LargeMotor)\n",
    "    steer_pair.on_for_degrees(steering=-100, speed=speed, degrees=degrees_to_turn)\n",
    "\n",
    "def spin_right_degrees(deg, speed):\n",
    "\n",
    "    degrees_to_turn = deg * 197.5/90\n",
    "    steer_pair = MoveSteering(OUTPUT_B, OUTPUT_C, motor_class=LargeMotor)\n",
    "    steer_pair.on_for_degrees(steering=+100, speed=speed, degrees=degrees_to_turn)\n",
    "    \n",
    "def turn_right_degrees(deg, speed):\n",
    "\n",
    "    degrees_to_turn = deg * 403/90\n",
    "    steer_pair = MoveTank(OUTPUT_B, OUTPUT_C, motor_class=LargeMotor)\n",
    "    steer_pair.on_for_degrees(speed, 0, degrees_to_turn)\n",
    "    \n",
    "def turn_left_degrees(deg, speed):\n",
    "\n",
    "    degrees_to_turn = deg * 403/90\n",
    "    steer_pair = MoveTank(OUTPUT_B, OUTPUT_C, motor_class=LargeMotor)\n",
    "    steer_pair.on_for_degrees(0, speed, degrees_to_turn)\n",
    "''')\n",
    "print(\"complete\")"
   ]
  },
  {
   "cell_type": "code",
   "execution_count": 7,
   "metadata": {},
   "outputs": [],
   "source": [
    "conn.execute('''sound = Sound()\n",
    "sound.speak('GFenix rises again')''')"
   ]
  },
  {
   "cell_type": "code",
   "execution_count": 44,
   "metadata": {},
   "outputs": [],
   "source": [
    "conn.execute('''\n",
    "steer_pair = MoveSteering(OUTPUT_B, OUTPUT_C, motor_class=LargeMotor)\n",
    "\n",
    "steer_pair.on_for_degrees(steering=-100, speed=10, degrees=197)''')\n"
   ]
  },
  {
   "cell_type": "code",
   "execution_count": 177,
   "metadata": {},
   "outputs": [],
   "source": [
    "conn.execute('''\n",
    "ultrasound = UltrasonicSensor(INPUT_4)\n",
    "print(ultrasound.distance_centimeters)''')"
   ]
  },
  {
   "cell_type": "code",
   "execution_count": 22,
   "metadata": {},
   "outputs": [],
   "source": [
    "conn.execute('''\n",
    "lightsensor = ColorSensor(INPUT_1)\n",
    "for x in range(1,30):\n",
    "    print(lightsensor.reflected_light_intensity)\n",
    "    sleep(1)''')"
   ]
  },
  {
   "cell_type": "code",
   "execution_count": 17,
   "metadata": {},
   "outputs": [],
   "source": [
    "conn.execute('''tank_drive = MoveTank(OUTPUT_B, OUTPUT_C)\n",
    "# drive in a turn for 10 rotations of the outer motor\n",
    "tank_drive.on_for_degrees(-10, 0, 403)''')"
   ]
  },
  {
   "cell_type": "code",
   "execution_count": 25,
   "metadata": {},
   "outputs": [],
   "source": [
    "conn.execute('''turn_left_degrees(90,10)\n",
    "turn_right_degrees(90,-10)\n",
    "''')"
   ]
  }
 ],
 "metadata": {
  "kernelspec": {
   "display_name": "Python 3",
   "language": "python",
   "name": "python3"
  },
  "language_info": {
   "codemirror_mode": {
    "name": "ipython",
    "version": 3
   },
   "file_extension": ".py",
   "mimetype": "text/x-python",
   "name": "python",
   "nbconvert_exporter": "python",
   "pygments_lexer": "ipython3",
   "version": "3.6.8"
  }
 },
 "nbformat": 4,
 "nbformat_minor": 2
}
