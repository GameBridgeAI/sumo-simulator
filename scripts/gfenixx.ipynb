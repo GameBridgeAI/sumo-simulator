{
 "cells": [
  {
   "cell_type": "code",
   "execution_count": 1,
   "metadata": {},
   "outputs": [],
   "source": [
    "import rpyc"
   ]
  },
  {
   "cell_type": "code",
   "execution_count": 23,
   "metadata": {},
   "outputs": [],
   "source": [
    "conn = rpyc.classic.connect(host='172.17.11.37', port=80) # host name or IP address of the EV3"
   ]
  },
  {
   "cell_type": "code",
   "execution_count": 3,
   "metadata": {},
   "outputs": [
    {
     "data": {
      "text/plain": [
       "11"
      ]
     },
     "execution_count": 3,
     "metadata": {},
     "output_type": "execute_result"
    }
   ],
   "source": [
    "robot = conn.modules.sys\n",
    "robot.stdout.write(\"hello world\")"
   ]
  },
  {
   "cell_type": "code",
   "execution_count": 24,
   "metadata": {},
   "outputs": [
    {
     "name": "stdout",
     "output_type": "stream",
     "text": [
      "complete\n"
     ]
    }
   ],
   "source": [
    "conn.execute('''import ev3dev2\n",
    "from ev3dev2.motor import LargeMotor, MoveSteering, OUTPUT_B, OUTPUT_C\n",
    "from ev3dev2.sensor.lego import UltrasonicSensor, ColorSensor\n",
    "from ev3dev2.sensor import INPUT_4, INPUT_1\n",
    "from ev3dev2.sound import Sound\n",
    "from time import sleep''')\n",
    "print(\"complete\")"
   ]
  },
  {
   "cell_type": "code",
   "execution_count": 25,
   "metadata": {},
   "outputs": [],
   "source": [
    "conn.execute('''sound = Sound()\n",
    "sound.speak('GFenix rises again')''')"
   ]
  },
  {
   "cell_type": "code",
   "execution_count": 18,
   "metadata": {},
   "outputs": [],
   "source": [
    "conn.execute('''\n",
    "steer_pair = MoveSteering(OUTPUT_B, OUTPUT_C, motor_class=LargeMotor)\n",
    "\n",
    "steer_pair.on_for_seconds(steering=15, speed=-10, seconds=2)''')\n"
   ]
  },
  {
   "cell_type": "code",
   "execution_count": 177,
   "metadata": {},
   "outputs": [],
   "source": [
    "conn.execute('''\n",
    "ultrasound = UltrasonicSensor(INPUT_4)\n",
    "print(ultrasound.distance_centimeters)''')"
   ]
  },
  {
   "cell_type": "code",
   "execution_count": 22,
   "metadata": {},
   "outputs": [],
   "source": [
    "conn.execute('''\n",
    "lightsensor = ColorSensor(INPUT_1)\n",
    "for x in range(1,30):\n",
    "    print(lightsensor.reflected_light_intensity)\n",
    "    sleep(1)''')"
   ]
  }
 ],
 "metadata": {
  "kernelspec": {
   "display_name": "Python 3",
   "language": "python",
   "name": "python3"
  },
  "language_info": {
   "codemirror_mode": {
    "name": "ipython",
    "version": 3
   },
   "file_extension": ".py",
   "mimetype": "text/x-python",
   "name": "python",
   "nbconvert_exporter": "python",
   "pygments_lexer": "ipython3",
   "version": "3.6.8"
  }
 },
 "nbformat": 4,
 "nbformat_minor": 2
}
